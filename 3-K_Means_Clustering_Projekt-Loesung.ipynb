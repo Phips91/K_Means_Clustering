{
 "cells": [
  {
   "cell_type": "markdown",
   "metadata": {},
   "source": [
    "<a href=\"https://akademie.datamics.com/kursliste/\">![title](bg_datamics_top.png)</a><center><em>© Datamics</em></center><br><center><em>Besuche uns für mehr Informationen auf <a href='https://akademie.datamics.com/kursliste/'>www.akademie.datamics.com</a></em>"
   ]
  },
  {
   "cell_type": "markdown",
   "metadata": {},
   "source": [
    "# K Means Clustering Projekt - Lösungen\n",
    "\n",
    "Für dieses Projekt werden wir versuchen K Means Clustering zu verwenden, um Universitäten in den USA in zwei Gruppen zu unterteilen: Private und öffentliche.\n",
    "\n",
    "*Ein wichtiger Hinweis gleich zu beginn: Für diese Universitäten wissen wir die tatsächliche Zuordnung und finden sie im Datensatz. Wir werden sie aber ignorieren da K Means Clustering ein Unsupervised Learning Algorithmus ist.*\n",
    "\n",
    "Normalerweise verwendet man den K Means Clustering Algorithmus für Daten, deren Zugehörigkeit zu einem Cluster man nicht kennt. In diesem Fall verwenden wir die Zuteilung, um beurteilen zu können, wie gut der Algorithmus performt. Da das in echten Anwendungen nicht möglich ist sind Confusion Matrix und Classification Report am Ende des Projekts nur theoretische Auswertungen.\n",
    "\n",
    "# Die Daten\n",
    "\n",
    "Wir verwenden einen DataFrame mit 770 Beobachtungen und den folgenden 18 Variablen:\n",
    "\n",
    "* Private: Dummy Varaible mit \"Yes\" für private und \"No\" für öffentliche Einrichtungen\n",
    "* Apps: Anzahl an erhaltenen Bewerbungen\n",
    "* Accept: Anzahl an angenommenen Bewerbungen\n",
    "* Enroll: Anzahl neu eingeschriebener Studenten\n",
    "* Top10perc: Prozent der neuen Studenten der Top 10% einer High School Klasse\n",
    "* Top25perc: Prozent der neuen Studenten der Top 25% einer High School Klasse\n",
    "* F.Undergrad: Anzahl an Vollzeitstudenten\n",
    "* P.Undergrad: Anzahl an Teilzeitstudenten\n",
    "* Outstate: Gebühr für Studenten, die aus einem anderen Staat kommen\n",
    "* Room.Board: Kosten für Räume und Mitarbeiter\n",
    "* Books: Geschätze Kosten für Bücher\n",
    "* Personal: Geschätzte persönliche Ausgaben\n",
    "* PhD: Prozent der Fakultäten mit Ph.D.'s\n",
    "* Terminal: Prozent der Fakultäten mit Terminal Degree\n",
    "* S.F.Ratio: Rate der Studenten pro Fakultät\n",
    "* perc.alumni: Prozent der Alumni die spenden\n",
    "* Expend: Verwaltungskosten pro Student\n",
    "* Grad.Rate: Abschlussrate\n",
    "\n",
    "## Libraries importieren\n",
    "\n",
    "**Importiere die Libraries, die wir üblicherweise zur Datenanalyse verwenden.**"
   ]
  },
  {
   "cell_type": "code",
   "execution_count": null,
   "metadata": {},
   "outputs": [],
   "source": [
    "import pandas as pd\n",
    "import numpy as np\n",
    "import matplotlib.pyplot as plt\n",
    "import seaborn as sns\n",
    "%matplotlib inline"
   ]
  },
  {
   "cell_type": "markdown",
   "metadata": {},
   "source": [
    "## Die Daten\n",
    "\n",
    "** Lies die CSV-Datei \"College_Data\" mit `read_csv` ein. Finde heraus, wie du die erste Spalte als Index definierst.**"
   ]
  },
  {
   "cell_type": "code",
   "execution_count": null,
   "metadata": {},
   "outputs": [],
   "source": [
    "df = pd.read_csv('College_Data',index_col=0)"
   ]
  },
  {
   "cell_type": "markdown",
   "metadata": {},
   "source": [
    "**Checke den Head des DataFrames.**"
   ]
  },
  {
   "cell_type": "code",
   "execution_count": null,
   "metadata": {},
   "outputs": [],
   "source": [
    "df.head()"
   ]
  },
  {
   "cell_type": "markdown",
   "metadata": {},
   "source": [
    "**Checke die info() und describe() Methode der Daten.**"
   ]
  },
  {
   "cell_type": "code",
   "execution_count": null,
   "metadata": {},
   "outputs": [],
   "source": [
    "df.info()"
   ]
  },
  {
   "cell_type": "code",
   "execution_count": null,
   "metadata": {},
   "outputs": [],
   "source": [
    "df.describe()"
   ]
  },
  {
   "cell_type": "markdown",
   "metadata": {},
   "source": [
    "## Explorative Datenanalyse\n",
    "\n",
    "Zeit einige Visualisierungen zu erstellen!\n",
    "\n",
    "**Erstelle ein Scatterplot von \"Grad.Rate\" vs. \"Room.Board\" in dem die Punkte nach der \"Private\" Spalte eingefärbt sind.**"
   ]
  },
  {
   "cell_type": "code",
   "execution_count": null,
   "metadata": {},
   "outputs": [],
   "source": [
    "sns.set_style('whitegrid')\n",
    "sns.lmplot(x='Room.Board', y='Grad.Rate', data=df, hue='Private', palette='coolwarm', height=6, aspect=1, fit_reg=False)"
   ]
  },
  {
   "cell_type": "markdown",
   "metadata": {},
   "source": [
    "**Erstelle ein Scatterplot von \"F.Undergrad\" vs. \"Outstate\" in dem die Punkte nach der \"Private\" Spalte eingefärbt sind.**"
   ]
  },
  {
   "cell_type": "code",
   "execution_count": null,
   "metadata": {},
   "outputs": [],
   "source": [
    "sns.set_style('whitegrid')\n",
    "sns.lmplot(x='Outstate', y='F.Undergrad', data=df, hue='Private', palette='coolwarm', height=6, aspect=1, fit_reg=False)"
   ]
  },
  {
   "cell_type": "markdown",
   "metadata": {},
   "source": [
    "**Erstelle ein Histogramm zweier Betrachtungen in einem Diagramm. Es soll die \"Out of State Tuition\" (-> \"Outstate\" Spalte) gezeigt werden und die Histogramme nach \"Private\" geteilt werden.**"
   ]
  },
  {
   "cell_type": "code",
   "execution_count": null,
   "metadata": {},
   "outputs": [],
   "source": [
    "sns.set_style('darkgrid')\n",
    "g = sns.FacetGrid(df,hue=\"Private\",palette='coolwarm',height=6,aspect=2)\n",
    "g = g.map(plt.hist,'Outstate',bins=20,alpha=0.7)"
   ]
  },
  {
   "cell_type": "markdown",
   "metadata": {},
   "source": [
    "**Erstelle ein gleiches Histogramm für \"Grad.Rate\".**"
   ]
  },
  {
   "cell_type": "code",
   "execution_count": null,
   "metadata": {},
   "outputs": [],
   "source": [
    "sns.set_style('darkgrid')\n",
    "g = sns.FacetGrid(df,hue=\"Private\",palette='coolwarm',height=6,aspect=2)\n",
    "g = g.map(plt.hist,'Grad.Rate',bins=20,alpha=0.7)"
   ]
  },
  {
   "cell_type": "markdown",
   "metadata": {},
   "source": [
    "**Es sieht so aus als gäbe es eine Universität mit einer Abschlussrate von mehr als 100% (was natürlich unmöglich ist). Welche Universität ist das?**"
   ]
  },
  {
   "cell_type": "code",
   "execution_count": null,
   "metadata": {},
   "outputs": [],
   "source": [
    "df[df['Grad.Rate'] > 100]"
   ]
  },
  {
   "cell_type": "markdown",
   "metadata": {},
   "source": [
    "**Setzte für diese Universität die Abschlussrate (\"Grad.Rate\") auf 100, damit es Sinn ergibt.**\n",
    "\n",
    "*Hinweis: Dabei bekommst du wahrscheinlich eine Warnung (keinen Error). Überprüfe danach durch Visuaisierung oder DataFrame Operationen, ob es erfolgreich durchgeführt wurde.*"
   ]
  },
  {
   "cell_type": "code",
   "execution_count": null,
   "metadata": {},
   "outputs": [],
   "source": [
    "df['Grad.Rate']['Cazenovia College'] = 100"
   ]
  },
  {
   "cell_type": "code",
   "execution_count": null,
   "metadata": {},
   "outputs": [],
   "source": [
    "df[df['Grad.Rate'] > 100]"
   ]
  },
  {
   "cell_type": "code",
   "execution_count": null,
   "metadata": {},
   "outputs": [],
   "source": [
    "sns.set_style('darkgrid')\n",
    "g = sns.FacetGrid(df,hue=\"Private\",palette='coolwarm',height=6,aspect=2)\n",
    "g = g.map(plt.hist,'Grad.Rate',bins=20,alpha=0.7)"
   ]
  },
  {
   "cell_type": "markdown",
   "metadata": {},
   "source": [
    "# K Means Cluster erstellen\n",
    "\n",
    "Jetzt ist es Zeit unsere Cluster zu erstellen!\n",
    "\n",
    "**Importiere KMeans from SciKit Learn.**"
   ]
  },
  {
   "cell_type": "code",
   "execution_count": null,
   "metadata": {},
   "outputs": [],
   "source": [
    "from sklearn.cluster import KMeans"
   ]
  },
  {
   "cell_type": "markdown",
   "metadata": {},
   "source": [
    "**Erstelle eine Instanz von einem K Means Modell mit 2 Clustern.**"
   ]
  },
  {
   "cell_type": "code",
   "execution_count": null,
   "metadata": {},
   "outputs": [],
   "source": [
    "kmeans = KMeans(n_clusters=2)"
   ]
  },
  {
   "cell_type": "markdown",
   "metadata": {},
   "source": [
    "**Fitte das Modell auf alle Daten (ohne die \"Private\" Spalte).**"
   ]
  },
  {
   "cell_type": "code",
   "execution_count": null,
   "metadata": {},
   "outputs": [],
   "source": [
    "kmeans.fit(df.drop('Private',axis=1))"
   ]
  },
  {
   "cell_type": "markdown",
   "metadata": {},
   "source": [
    "**Wie lauten die Cluster Zentrumsvektoren?**"
   ]
  },
  {
   "cell_type": "code",
   "execution_count": null,
   "metadata": {},
   "outputs": [],
   "source": [
    "kmeans.cluster_centers_"
   ]
  },
  {
   "cell_type": "markdown",
   "metadata": {},
   "source": [
    "# Auswertung\n",
    "\n",
    "Es gibt nicht die eine perfekte Art, um dieses Clustering auszuwerten, wenn man keine Zuteilung vorliegen hat. Da dies nur eine Übung ist und wir die richtige Zuteilung kennen können wir unsere Cluster überprüfen.\n",
    "\n",
    "**Erstelle eine neue Spalte namens \"Cluster\", welche ein 1 für private Universitäten und 0 für öffentliche beinhaltet.**"
   ]
  },
  {
   "cell_type": "code",
   "execution_count": null,
   "metadata": {},
   "outputs": [],
   "source": [
    "def converter(cluster):\n",
    "    if cluster=='Yes':\n",
    "        return 1\n",
    "    else:\n",
    "        return 0"
   ]
  },
  {
   "cell_type": "code",
   "execution_count": null,
   "metadata": {},
   "outputs": [],
   "source": [
    "df['Cluster'] = df['Private'].apply(converter)"
   ]
  },
  {
   "cell_type": "code",
   "execution_count": null,
   "metadata": {},
   "outputs": [],
   "source": [
    "df.head()"
   ]
  },
  {
   "cell_type": "markdown",
   "metadata": {},
   "source": [
    "**Erstelle eine Confusion Matrix und den Classification Report, um zu sehen wie gut unser K Means Clustering die Universitäten zugeordnet hat.**"
   ]
  },
  {
   "cell_type": "code",
   "execution_count": null,
   "metadata": {},
   "outputs": [],
   "source": [
    "from sklearn.metrics import confusion_matrix,classification_report\n",
    "print(confusion_matrix(df['Cluster'],kmeans.labels_))"
   ]
  },
  {
   "cell_type": "code",
   "execution_count": null,
   "metadata": {},
   "outputs": [],
   "source": [
    "print(classification_report(df['Cluster'],kmeans.labels_))"
   ]
  },
  {
   "cell_type": "markdown",
   "metadata": {},
   "source": [
    "Gar nicht so schlecht, wenn man bedenkt, dass der Algorithmus die reinen Eigenschaften verwendet und daraus zwei Gruppen macht. Hoffentlich zeigt euch dieses Beispiel, wie gut K Means für Daten geeignet ist, deren Cluster wir noch nicht kennen.\n",
    "\n",
    "# Gut gemacht!"
   ]
  },
  {
   "cell_type": "code",
   "execution_count": null,
   "metadata": {},
   "outputs": [],
   "source": []
  },
  {
   "cell_type": "code",
   "execution_count": null,
   "metadata": {},
   "outputs": [],
   "source": []
  }
 ],
 "metadata": {
  "kernelspec": {
   "display_name": "Python 3",
   "language": "python",
   "name": "python3"
  },
  "language_info": {
   "codemirror_mode": {
    "name": "ipython",
    "version": 3
   },
   "file_extension": ".py",
   "mimetype": "text/x-python",
   "name": "python",
   "nbconvert_exporter": "python",
   "pygments_lexer": "ipython3",
   "version": "3.8.8"
  }
 },
 "nbformat": 4,
 "nbformat_minor": 2
}
